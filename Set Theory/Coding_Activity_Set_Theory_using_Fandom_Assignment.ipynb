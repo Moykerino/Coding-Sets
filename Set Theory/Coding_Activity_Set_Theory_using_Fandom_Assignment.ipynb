{
 "cells": [
  {
   "cell_type": "markdown",
   "metadata": {},
   "source": [
    "## Collections"
   ]
  },
  {
   "cell_type": "code",
   "execution_count": 1,
   "metadata": {},
   "outputs": [],
   "source": [
    "offline_video_games = [\"Sekiro\", \"Furi\", \"Doom Eternal\", \"Skyrim\", \"Enter the Gungeon\"]\n",
    "online_video_games = [\"LoL\", \"Valorant\", \"Doom Eternal\", \"Skyrim\", \"Enter the Gungeon\"]\n",
    "\n",
    "opm = [\"Ben n Ben\", \"Munimuni\", \"Any Name's Okay\", \"123! Pikit\", \"IV of Spades\", \"Magnus Haven\"] \n",
    "rock = [\"Paramore\", \"Kaleo\", \"Dorothy\", \"Queen\", \"MCR\", \"123! Pikit\", \"IV of Spades\", \"Magnus Haven\" ]\n"
   ]
  },
  {
   "cell_type": "code",
   "execution_count": 2,
   "metadata": {},
   "outputs": [],
   "source": [
    "# Turn the list into a set\n",
    "offlinevideogames = set(offline_video_games)\n",
    "onlinevideogames = set(online_video_games)\n",
    "OPM = set(opm)\n",
    "ROCK = set(rock)\n"
   ]
  },
  {
   "cell_type": "markdown",
   "metadata": {},
   "source": [
    "### Inner Join"
   ]
  },
  {
   "cell_type": "code",
   "execution_count": 3,
   "metadata": {},
   "outputs": [
    {
     "name": "stdout",
     "output_type": "stream",
     "text": [
      "{'Enter the Gungeon', 'Skyrim', 'Doom Eternal'}\n",
      "{'Magnus Haven', 'IV of Spades', '123! Pikit'}\n"
     ]
    }
   ],
   "source": [
    "## Find the common things between the sets\n",
    "## Intersection\n",
    "common_videogames = offlinevideogames.intersection(onlinevideogames)\n",
    "print(common_videogames) ## inner join of sets offlinevideogames and onlinevideogames\n",
    "\n",
    "common_music = OPM.intersection(ROCK)\n",
    "print(common_music) ## inner join of sets OPM and ROCK"
   ]
  },
  {
   "cell_type": "markdown",
   "metadata": {},
   "source": [
    "### Left Join"
   ]
  },
  {
   "cell_type": "code",
   "execution_count": 4,
   "metadata": {},
   "outputs": [
    {
     "name": "stdout",
     "output_type": "stream",
     "text": [
      "{'Sekiro', 'Furi', 'Doom Eternal', 'Enter the Gungeon', 'Skyrim'}\n",
      "{'Magnus Haven', \"Any Name's Okay\", '123! Pikit', 'IV of Spades', 'Munimuni', 'Ben n Ben'}\n"
     ]
    }
   ],
   "source": [
    "## Find the left join of the sets\n",
    "offlinevideogames_ljoin = common_videogames.union(offlinevideogames)\n",
    "print(offlinevideogames_ljoin) \n",
    "\n",
    "OPM_ljoin = common_music.union(OPM)\n",
    "print(OPM_ljoin)"
   ]
  },
  {
   "cell_type": "markdown",
   "metadata": {},
   "source": [
    "### Right Join"
   ]
  },
  {
   "cell_type": "code",
   "execution_count": 5,
   "metadata": {},
   "outputs": [
    {
     "name": "stdout",
     "output_type": "stream",
     "text": [
      "{'Valorant', 'Doom Eternal', 'Enter the Gungeon', 'LoL', 'Skyrim'}\n",
      "{'Magnus Haven', 'Queen', 'Kaleo', 'MCR', '123! Pikit', 'Dorothy', 'IV of Spades', 'Paramore'}\n"
     ]
    }
   ],
   "source": [
    "## Find the right join of the sets\n",
    "onlinevideogames_rjoin = common_videogames.union(onlinevideogames)\n",
    "print(onlinevideogames_rjoin)\n",
    "\n",
    "ROCK_rjoin = common_music.union(ROCK)\n",
    "print(ROCK_rjoin)"
   ]
  },
  {
   "cell_type": "markdown",
   "metadata": {},
   "source": [
    "### Left Exclusive Join"
   ]
  },
  {
   "cell_type": "code",
   "execution_count": 6,
   "metadata": {},
   "outputs": [
    {
     "name": "stdout",
     "output_type": "stream",
     "text": [
      "{'Furi', 'Sekiro'}\n",
      "{'Munimuni', 'Ben n Ben', \"Any Name's Okay\"}\n"
     ]
    }
   ],
   "source": [
    "## Find the left exclusive join of the sets\n",
    "offlinevideogames_exljoin = offlinevideogames.difference(onlinevideogames)\n",
    "print(offlinevideogames_exljoin)\n",
    "\n",
    "OPM_exljoin = OPM.difference(ROCK)\n",
    "print(OPM_exljoin)"
   ]
  },
  {
   "cell_type": "markdown",
   "metadata": {},
   "source": [
    "### Right Exclusive Join"
   ]
  },
  {
   "cell_type": "code",
   "execution_count": 7,
   "metadata": {},
   "outputs": [
    {
     "name": "stdout",
     "output_type": "stream",
     "text": [
      "{'LoL', 'Valorant'}\n",
      "{'Queen', 'Kaleo', 'MCR', 'Dorothy', 'Paramore'}\n"
     ]
    }
   ],
   "source": [
    "## Find the right exclusive join of the sets\n",
    "onlinevideogames_exrjoin = onlinevideogames.difference(offlinevideogames)\n",
    "print(onlinevideogames_exrjoin)\n",
    "\n",
    "ROCK_exrjoin = ROCK.difference(OPM)\n",
    "print(ROCK_exrjoin)"
   ]
  },
  {
   "cell_type": "markdown",
   "metadata": {},
   "source": [
    "### Full Outer Join"
   ]
  },
  {
   "cell_type": "code",
   "execution_count": 8,
   "metadata": {},
   "outputs": [
    {
     "name": "stdout",
     "output_type": "stream",
     "text": [
      "{'Sekiro', 'Valorant', 'Furi', 'Doom Eternal', 'Enter the Gungeon', 'LoL', 'Skyrim'}\n",
      "{'Magnus Haven', \"Any Name's Okay\", 'Queen', 'Kaleo', 'MCR', '123! Pikit', 'Dorothy', 'IV of Spades', 'Paramore', 'Munimuni', 'Ben n Ben'}\n"
     ]
    }
   ],
   "source": [
    "## Find the full outer join of the sets\n",
    "full_outer_videogames = offlinevideogames.union(onlinevideogames)\n",
    "print(full_outer_videogames)\n",
    "\n",
    "full_outer_music = OPM.union(ROCK)\n",
    "print(full_outer_music)"
   ]
  },
  {
   "cell_type": "markdown",
   "metadata": {},
   "source": [
    "### Full Outer Exclusive Join"
   ]
  },
  {
   "cell_type": "code",
   "execution_count": 9,
   "metadata": {},
   "outputs": [
    {
     "name": "stdout",
     "output_type": "stream",
     "text": [
      "{'Furi', 'LoL', 'Valorant', 'Sekiro'}\n",
      "{\"Any Name's Okay\", 'Queen', 'Kaleo', 'MCR', 'Dorothy', 'Paramore', 'Munimuni', 'Ben n Ben'}\n"
     ]
    }
   ],
   "source": [
    "## Find the full outer exclusive join of the sets\n",
    "full_xouter_videogames = (offlinevideogames.difference(onlinevideogames)).union(onlinevideogames.difference(offlinevideogames))\n",
    "print(full_xouter_videogames)\n",
    "\n",
    "full_xouter_music = (OPM.difference(ROCK)).union(ROCK.difference(OPM))\n",
    "print(full_xouter_music)"
   ]
  }
 ],
 "metadata": {
  "kernelspec": {
   "display_name": "Python 3",
   "language": "python",
   "name": "python3"
  },
  "language_info": {
   "codemirror_mode": {
    "name": "ipython",
    "version": 3
   },
   "file_extension": ".py",
   "mimetype": "text/x-python",
   "name": "python",
   "nbconvert_exporter": "python",
   "pygments_lexer": "ipython3",
   "version": "3.8.3"
  }
 },
 "nbformat": 4,
 "nbformat_minor": 4
}
